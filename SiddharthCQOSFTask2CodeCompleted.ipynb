{
  "nbformat": 4,
  "nbformat_minor": 0,
  "metadata": {
    "colab": {
      "provenance": []
    },
    "kernelspec": {
      "name": "python3",
      "display_name": "Python 3"
    },
    "language_info": {
      "name": "python"
    }
  },
  "cells": [
    {
      "cell_type": "code",
      "execution_count": 1,
      "metadata": {
        "colab": {
          "base_uri": "https://localhost:8080/",
          "height": 278
        },
        "id": "CZN1YnfbRRgu",
        "outputId": "13e49936-2495-44cd-b356-7a45698a657d"
      },
      "outputs": [
        {
          "output_type": "stream",
          "name": "stdout",
          "text": [
            "Requirement already satisfied: qiskit in /usr/local/lib/python3.10/dist-packages (1.0.2)\n",
            "Requirement already satisfied: rustworkx>=0.14.0 in /usr/local/lib/python3.10/dist-packages (from qiskit) (0.14.2)\n",
            "Requirement already satisfied: numpy<2,>=1.17 in /usr/local/lib/python3.10/dist-packages (from qiskit) (1.25.2)\n",
            "Requirement already satisfied: scipy>=1.5 in /usr/local/lib/python3.10/dist-packages (from qiskit) (1.11.4)\n",
            "Requirement already satisfied: sympy>=1.3 in /usr/local/lib/python3.10/dist-packages (from qiskit) (1.12)\n",
            "Requirement already satisfied: dill>=0.3 in /usr/local/lib/python3.10/dist-packages (from qiskit) (0.3.8)\n",
            "Requirement already satisfied: python-dateutil>=2.8.0 in /usr/local/lib/python3.10/dist-packages (from qiskit) (2.8.2)\n",
            "Requirement already satisfied: stevedore>=3.0.0 in /usr/local/lib/python3.10/dist-packages (from qiskit) (5.2.0)\n",
            "Requirement already satisfied: typing-extensions in /usr/local/lib/python3.10/dist-packages (from qiskit) (4.10.0)\n",
            "Requirement already satisfied: symengine>=0.11 in /usr/local/lib/python3.10/dist-packages (from qiskit) (0.11.0)\n",
            "Requirement already satisfied: six>=1.5 in /usr/local/lib/python3.10/dist-packages (from python-dateutil>=2.8.0->qiskit) (1.16.0)\n",
            "Requirement already satisfied: pbr!=2.1.0,>=2.0.0 in /usr/local/lib/python3.10/dist-packages (from stevedore>=3.0.0->qiskit) (6.0.0)\n",
            "Requirement already satisfied: mpmath>=0.19 in /usr/local/lib/python3.10/dist-packages (from sympy>=1.3->qiskit) (1.3.0)\n"
          ]
        },
        {
          "output_type": "execute_result",
          "data": {
            "text/plain": [
              "'\\nfrom qiskit import transpile\\n    provider = BasicProvider()\\n    backend = provider.get_backend(\"basic_simulator\")\\n    job = backend.run(qc)\\n    counts = job.result().get_counts(qc)\\n\\n  provider = BasicProvider()\\n  backend = provider.get_backend(\"basic_simulator\")\\n  job = backend.run(circuit)\\n  counts = job.result().get_counts(circuit)\\n'"
            ],
            "application/vnd.google.colaboratory.intrinsic+json": {
              "type": "string"
            }
          },
          "metadata": {},
          "execution_count": 1
        }
      ],
      "source": [
        "# Code for task 2\n",
        "!pip install qiskit\n",
        "import qiskit\n",
        "from qiskit import  transpile\n",
        "from qiskit.providers.basic_provider import BasicProvider\n",
        "import numpy as np\n",
        "from qiskit import QuantumCircuit, QuantumRegister, ClassicalRegister\n",
        "\n",
        "'''\n",
        "from qiskit import transpile\n",
        "    provider = BasicProvider()\n",
        "    backend = provider.get_backend(\"basic_simulator\")\n",
        "    job = backend.run(qc)\n",
        "    counts = job.result().get_counts(qc)\n",
        "\n",
        " Need to use the above for the new version of qiskit (1 or above) in place of the old execute() function and \"qasm_simulator\"\n",
        "'''\n"
      ]
    },
    {
      "cell_type": "code",
      "source": [
        "# Creating two functions that result in what we need.\n",
        "def create_odd_to_even_circuit(lst, n):\n",
        "    num_qubits = len(bin(n - 1)) - 2  # Number of qubits needed to represent numbers up to n (given in problem)\n",
        "    qreg = QuantumRegister(num_qubits, name='q')\n",
        "    ancilla = QuantumRegister(num_qubits, name='anc')\n",
        "    creg = ClassicalRegister(num_qubits, name='c')\n",
        "    qc = QuantumCircuit(qreg, ancilla, creg)\n",
        "\n",
        "    # Apply Hadamard gates to all qubits\n",
        "    qc.h(qreg)\n",
        "\n",
        "    # Apply modular addition gate for each odd number in the list\n",
        "    for num in lst:\n",
        "        if num % 2 == 1:\n",
        "            bin_num = bin(num)[2:].zfill(num_qubits)\n",
        "            for j, bit in enumerate(reversed(bin_num)):\n",
        "                if bit == '1':\n",
        "                    qc.cx(qreg[num_qubits - j - 1], ancilla[j])\n",
        "\n",
        "    # Apply controlled-X gates to update the original list\n",
        "    for i in range(len(ancilla)):\n",
        "        qc.cx(ancilla[i], qreg[i])\n",
        "\n",
        "    # Measure the qubits to collapse the superposition (from the Hadamard gates)\n",
        "    qc.measure(qreg, creg)\n",
        "\n",
        "    return qc\n",
        "\n",
        "# Main function, using the quantum circuit developed in the previous function.\n",
        "\n",
        "def odd_to_even(lst, n):\n",
        "    qc = create_odd_to_even_circuit(lst, n) # Getting circuit from other function\n",
        "    # Simulating/running results\n",
        "    provider = BasicProvider()\n",
        "    backend = provider.get_backend(\"basic_simulator\")\n",
        "    job = backend.run(qc)\n",
        "    counts = job.result().get_counts(qc)\n",
        "\n",
        "    # Converting the measured counts to decimal and update the original list\n",
        "    for binary_str, count in counts.items():\n",
        "        decimal_val = int(binary_str, 2)\n",
        "        for i, num in enumerate(lst):\n",
        "            if num % 2 == 1:\n",
        "                even_num = (num + decimal_val) % n  # Apply modular arithmetic to stay within the range [1, n); used to guarantee optimal results\n",
        "                lst[i] = even_num if even_num != 0 else n  # Ensure even_num is not 0 (mod n)\n",
        "\n",
        "    return lst\n",
        "\n",
        "# Example usage (same as given, all results are below 31 [n] and are all even)\n",
        "n = 31\n",
        "lst = [1, 2, 2, 4, 5, 6, 7, 11, 17, 21, 22, 23]\n",
        "result = odd_to_even(lst, n)\n",
        "print(result)"
      ],
      "metadata": {
        "colab": {
          "base_uri": "https://localhost:8080/"
        },
        "id": "-4_Sd3wdaqEX",
        "outputId": "bffde5e0-1804-40be-f0b9-ba5f0776879b"
      },
      "execution_count": 27,
      "outputs": [
        {
          "output_type": "stream",
          "name": "stdout",
          "text": [
            "[22, 2, 2, 4, 26, 6, 28, 11, 17, 4, 22, 6]\n"
          ]
        }
      ]
    }
  ]
}